{
 "cells": [
  {
   "cell_type": "code",
   "execution_count": 76,
   "id": "1a3c4801",
   "metadata": {},
   "outputs": [],
   "source": [
    "import pandas as pd\n",
    "import numpy as np\n",
    "import matplotlib\n",
    "import matplotlib.pyplot as plt\n",
    "import statsmodels.api as sm\n",
    "import seaborn as sns\n",
    "from stargazer.stargazer import Stargazer\n",
    "from sklearn.linear_model import LinearRegression"
   ]
  },
  {
   "cell_type": "code",
   "execution_count": 2,
   "id": "62b4dcb0",
   "metadata": {},
   "outputs": [],
   "source": [
    "data = pd.read_csv('kickers_v2.csv')"
   ]
  },
  {
   "cell_type": "code",
   "execution_count": 61,
   "id": "a6b4b2d4",
   "metadata": {},
   "outputs": [
    {
     "data": {
      "text/html": [
       "<div>\n",
       "<style scoped>\n",
       "    .dataframe tbody tr th:only-of-type {\n",
       "        vertical-align: middle;\n",
       "    }\n",
       "\n",
       "    .dataframe tbody tr th {\n",
       "        vertical-align: top;\n",
       "    }\n",
       "\n",
       "    .dataframe thead th {\n",
       "        text-align: right;\n",
       "    }\n",
       "</style>\n",
       "<table border=\"1\" class=\"dataframe\">\n",
       "  <thead>\n",
       "    <tr style=\"text-align: right;\">\n",
       "      <th></th>\n",
       "      <th>Unnamed: 0</th>\n",
       "      <th>Team</th>\n",
       "      <th>Year</th>\n",
       "      <th>GameMinute</th>\n",
       "      <th>Kicker</th>\n",
       "      <th>Distance</th>\n",
       "      <th>ScoreDiff</th>\n",
       "      <th>Grass</th>\n",
       "      <th>Success</th>\n",
       "      <th>Intercept</th>\n",
       "    </tr>\n",
       "  </thead>\n",
       "  <tbody>\n",
       "    <tr>\n",
       "      <th>0</th>\n",
       "      <td>1</td>\n",
       "      <td>PHI</td>\n",
       "      <td>2005</td>\n",
       "      <td>3</td>\n",
       "      <td>Akers</td>\n",
       "      <td>49</td>\n",
       "      <td>0</td>\n",
       "      <td>False</td>\n",
       "      <td>0</td>\n",
       "      <td>1</td>\n",
       "    </tr>\n",
       "    <tr>\n",
       "      <th>1</th>\n",
       "      <td>2</td>\n",
       "      <td>PHI</td>\n",
       "      <td>2005</td>\n",
       "      <td>29</td>\n",
       "      <td>Akers</td>\n",
       "      <td>49</td>\n",
       "      <td>-7</td>\n",
       "      <td>False</td>\n",
       "      <td>0</td>\n",
       "      <td>1</td>\n",
       "    </tr>\n",
       "    <tr>\n",
       "      <th>2</th>\n",
       "      <td>3</td>\n",
       "      <td>PHI</td>\n",
       "      <td>2005</td>\n",
       "      <td>51</td>\n",
       "      <td>Akers</td>\n",
       "      <td>44</td>\n",
       "      <td>-7</td>\n",
       "      <td>False</td>\n",
       "      <td>1</td>\n",
       "      <td>1</td>\n",
       "    </tr>\n",
       "    <tr>\n",
       "      <th>3</th>\n",
       "      <td>4</td>\n",
       "      <td>PHI</td>\n",
       "      <td>2005</td>\n",
       "      <td>14</td>\n",
       "      <td>Akers</td>\n",
       "      <td>43</td>\n",
       "      <td>14</td>\n",
       "      <td>True</td>\n",
       "      <td>0</td>\n",
       "      <td>1</td>\n",
       "    </tr>\n",
       "    <tr>\n",
       "      <th>4</th>\n",
       "      <td>5</td>\n",
       "      <td>PHI</td>\n",
       "      <td>2005</td>\n",
       "      <td>60</td>\n",
       "      <td>Akers</td>\n",
       "      <td>23</td>\n",
       "      <td>0</td>\n",
       "      <td>True</td>\n",
       "      <td>1</td>\n",
       "      <td>1</td>\n",
       "    </tr>\n",
       "  </tbody>\n",
       "</table>\n",
       "</div>"
      ],
      "text/plain": [
       "   Unnamed: 0 Team  Year  GameMinute Kicker  Distance  ScoreDiff  Grass  \\\n",
       "0           1  PHI  2005           3  Akers        49          0  False   \n",
       "1           2  PHI  2005          29  Akers        49         -7  False   \n",
       "2           3  PHI  2005          51  Akers        44         -7  False   \n",
       "3           4  PHI  2005          14  Akers        43         14   True   \n",
       "4           5  PHI  2005          60  Akers        23          0   True   \n",
       "\n",
       "   Success  Intercept  \n",
       "0        0          1  \n",
       "1        0          1  \n",
       "2        1          1  \n",
       "3        0          1  \n",
       "4        1          1  "
      ]
     },
     "execution_count": 61,
     "metadata": {},
     "output_type": "execute_result"
    }
   ],
   "source": [
    "data.head()"
   ]
  },
  {
   "cell_type": "code",
   "execution_count": 62,
   "id": "1a6622c0",
   "metadata": {},
   "outputs": [
    {
     "data": {
      "text/plain": [
       "False"
      ]
     },
     "execution_count": 62,
     "metadata": {},
     "output_type": "execute_result"
    }
   ],
   "source": [
    "# It's important we check for NAN before we start our analysis.\n",
    "data.isnull().values.any()"
   ]
  },
  {
   "attachments": {},
   "cell_type": "markdown",
   "id": "97b10734",
   "metadata": {},
   "source": [
    "<h1> PSET 1 Econ 1042 Sports Economics </h1>\n",
    "<h2> 1. Question </h2>\n",
    "<ol>\n",
    "    <li> What was the minimum distance of a field goal kicked in this sample? What was the maximum? Mean? Median!</li>\n",
    "    <li> Why isn’t the minimum lower? (For those who are not familiar with football, please read about how field goal distance is measured and its relationship to where the ball is on the field.)</li>\n",
    "    <li> What special circumstances might explain the maximum? (Hint: football is a game with 4, 15-minute quarters. At the end of the second quarter there is a halftime break and possession is assigned based on the result of a first-half coin toss) </li>\n",
    "</ol>"
   ]
  },
  {
   "cell_type": "code",
   "execution_count": 14,
   "id": "088bdc29",
   "metadata": {},
   "outputs": [
    {
     "name": "stdout",
     "output_type": "stream",
     "text": [
      "The median distance of a field goal kicked was 37.0\n"
     ]
    },
    {
     "data": {
      "text/plain": [
       "count    11187.000000\n",
       "mean        36.897381\n",
       "std         10.173351\n",
       "min         18.000000\n",
       "25%         28.000000\n",
       "50%         37.000000\n",
       "75%         45.000000\n",
       "max         76.000000\n",
       "Name: Distance, dtype: float64"
      ]
     },
     "execution_count": 14,
     "metadata": {},
     "output_type": "execute_result"
    }
   ],
   "source": [
    "print(f\"The median distance of a field goal kicked was {np.median(data['Distance'])}\")\n",
    "data['Distance'].describe()"
   ]
  },
  {
   "cell_type": "markdown",
   "id": "2ebf0163",
   "metadata": {},
   "source": [
    "1. The minimum distance of a field goal kicked in the sample was 18.00 yards. The maximum was 76.00 yards and the median was 37.0 yards. The mean was 36.897 yards\n",
    "2. The minimum is 17 yards. This makes sense since the endzone is 10yards, and the ball has to be kicked from 7 yards from the line of scrimmage. Hence 10 + 7 = 17."
   ]
  },
  {
   "cell_type": "code",
   "execution_count": 16,
   "id": "999e22ed",
   "metadata": {},
   "outputs": [
    {
     "data": {
      "text/html": [
       "<div>\n",
       "<style scoped>\n",
       "    .dataframe tbody tr th:only-of-type {\n",
       "        vertical-align: middle;\n",
       "    }\n",
       "\n",
       "    .dataframe tbody tr th {\n",
       "        vertical-align: top;\n",
       "    }\n",
       "\n",
       "    .dataframe thead th {\n",
       "        text-align: right;\n",
       "    }\n",
       "</style>\n",
       "<table border=\"1\" class=\"dataframe\">\n",
       "  <thead>\n",
       "    <tr style=\"text-align: right;\">\n",
       "      <th></th>\n",
       "      <th>Unnamed: 0</th>\n",
       "      <th>Team</th>\n",
       "      <th>Year</th>\n",
       "      <th>GameMinute</th>\n",
       "      <th>Kicker</th>\n",
       "      <th>Distance</th>\n",
       "      <th>ScoreDiff</th>\n",
       "      <th>Grass</th>\n",
       "      <th>Success</th>\n",
       "    </tr>\n",
       "  </thead>\n",
       "  <tbody>\n",
       "    <tr>\n",
       "      <th>3557</th>\n",
       "      <td>3558</td>\n",
       "      <td>OAK</td>\n",
       "      <td>2008</td>\n",
       "      <td>30</td>\n",
       "      <td>Janikowski</td>\n",
       "      <td>76</td>\n",
       "      <td>15</td>\n",
       "      <td>True</td>\n",
       "      <td>0</td>\n",
       "    </tr>\n",
       "  </tbody>\n",
       "</table>\n",
       "</div>"
      ],
      "text/plain": [
       "      Unnamed: 0 Team  Year  GameMinute      Kicker  Distance  ScoreDiff  \\\n",
       "3557        3558  OAK  2008          30  Janikowski        76         15   \n",
       "\n",
       "      Grass  Success  \n",
       "3557   True        0  "
      ]
     },
     "execution_count": 16,
     "metadata": {},
     "output_type": "execute_result"
    }
   ],
   "source": [
    "# Lets find out what play was kicked from 76 yards away?\n",
    "max_yard = data.loc[data['Distance'] == 76.00]\n",
    "max_yard"
   ]
  },
  {
   "cell_type": "markdown",
   "id": "3b7ba30d",
   "metadata": {},
   "source": [
    "3. The 76 yards field goal attempt from Janikowski was in the last second of the second quarter (video: https://www.youtube.com/watch?v=X7BepDe6Zoc). It makes sense to kick if far into the opponents end zone, if in the first half your team had the ball. Since, then the opposing team will start from further away from the kickers endzone. It's like as if the special team does a punt."
   ]
  },
  {
   "attachments": {},
   "cell_type": "markdown",
   "id": "d046abcb",
   "metadata": {},
   "source": [
    "<h2> 2. Question </h2>\n",
    "<p> Over the entire sample what percentage of kicks from 40 to 45 yards were made? Kicks over 45 yards? <p>"
   ]
  },
  {
   "cell_type": "code",
   "execution_count": 46,
   "id": "b409d760",
   "metadata": {},
   "outputs": [
    {
     "name": "stdout",
     "output_type": "stream",
     "text": [
      "11187\n",
      "1325\n",
      "11.844% of Kicks were from between 40-45 yards\n"
     ]
    }
   ],
   "source": [
    "sample_size = len(data)\n",
    "print(sample_size)\n",
    "# let's find the number of successful kicks from 40-45 yards\n",
    "kicks_40_45 = data.loc[(data['Distance'] > 40) & (data['Distance'] < 45)]\n",
    "print(len(kicks_40_45))\n",
    "# We find that 1325 kicks were made in that range\n",
    "success_40_45 = kicks_40_45['Success'].value_counts()\n",
    "# print(success_40_45)\n",
    "ratio_success = success_40_45[1]/(success_40_45[0] + success_40_45[1])\n",
    "ratio = (len(kicks_40_45)/sample_size) * 100\n",
    "print(f'{ratio:.3f}% of Kicks were from between 40-45 yards')\n",
    "\n",
    "# How many kicks were over 45 yards?\n",
    "# kicks"
   ]
  },
  {
   "cell_type": "code",
   "execution_count": 49,
   "id": "654d0713",
   "metadata": {},
   "outputs": [
    {
     "name": "stdout",
     "output_type": "stream",
     "text": [
      "24.439% of Kicks were from between 40-45 yards\n"
     ]
    }
   ],
   "source": [
    "kicks_above_45 = data.loc[data['Distance'] > 45]\n",
    "ratio_above_45 = (len(kicks_above_45)/sample_size) * 100\n",
    "print(f'{ratio_above_45:.3f}% of Kicks were from between 40-45 yards')"
   ]
  },
  {
   "cell_type": "markdown",
   "id": "ae8a48d4",
   "metadata": {},
   "source": [
    "<h2> 3. Question </h2>\n",
    "<p> Was the make rate higher on grass or on turf? Is that difference statistically significant? Do you think this is the true effect of surface? Why or why not?  (Answer this by doing an OLS regression. For the entire assignment, let’s use the heteroskedasticity robust standard errors, r in stata or the equivalent in R)<br> <br>\n",
    "Let's compute the difference using $\\Delta = \\bar{Y}_{grass} - \\bar{Y}_{turf}$ we shall report standard errors as heteroscedasticity robust (HC2) \n",
    "</p>"
   ]
  },
  {
   "cell_type": "code",
   "execution_count": 67,
   "id": "f2e9a5a6",
   "metadata": {},
   "outputs": [
    {
     "name": "stdout",
     "output_type": "stream",
     "text": [
      "False\n",
      "                            OLS Regression Results                            \n",
      "==============================================================================\n",
      "Dep. Variable:                Success   R-squared:                       0.001\n",
      "Model:                            OLS   Adj. R-squared:                  0.001\n",
      "Method:                 Least Squares   F-statistic:                     7.500\n",
      "Date:                Sun, 29 Jan 2023   Prob (F-statistic):            0.00618\n",
      "Time:                        18:29:31   Log-Likelihood:                -4845.9\n",
      "No. Observations:               11187   AIC:                             9696.\n",
      "Df Residuals:                   11185   BIC:                             9710.\n",
      "Df Model:                           1                                         \n",
      "Covariance Type:                  HC2                                         \n",
      "==============================================================================\n",
      "                 coef    std err          z      P>|z|      [0.025      0.975]\n",
      "------------------------------------------------------------------------------\n",
      "Grass         -0.0193      0.007     -2.739      0.006      -0.033      -0.005\n",
      "Intercept      0.8433      0.005    164.864      0.000       0.833       0.853\n",
      "==============================================================================\n",
      "Omnibus:                     3155.584   Durbin-Watson:                   1.995\n",
      "Prob(Omnibus):                  0.000   Jarque-Bera (JB):             6555.427\n",
      "Skew:                          -1.781   Prob(JB):                         0.00\n",
      "Kurtosis:                       4.175   Cond. No.                         2.75\n",
      "==============================================================================\n",
      "\n",
      "Notes:\n",
      "[1] Standard Errors are heteroscedasticity robust (HC2)\n"
     ]
    }
   ],
   "source": [
    "# define response variable\n",
    "# statsmodel requires us to add a column where each value is 1 in order to compute intercept\n",
    "data['Intercept'] = 1\n",
    "# Since we find no NAN in our column\n",
    "print(data['Grass'].isnull().values.any())\n",
    "# We can conver the 'bool' values for Grass to the datatype 'int'\n",
    "data['Grass'] = data['Grass'].astype(int)\n",
    "Y = data[['Success']]\n",
    "X = data[['Grass', 'Intercept']]\n",
    "mod = sm.OLS(Y, X)\n",
    "res = mod.fit(cov_type='HC2')\n",
    "print(res.summary())"
   ]
  },
  {
   "cell_type": "code",
   "execution_count": 74,
   "id": "ace534b8",
   "metadata": {},
   "outputs": [
    {
     "name": "stdout",
     "output_type": "stream",
     "text": [
      "[[-0.01932925]]\n"
     ]
    }
   ],
   "source": [
    "# Let's also try the Sklearn Library\n",
    "# We can also use the Sklearn Library to do an OLS regression, but I don't think it has a summary function.\n",
    "X = data[['Grass']]\n",
    "reg = LinearRegression(fit_intercept=True).fit(X,Y)\n",
    "parameters = reg.get_params()\n",
    "print(reg.coef_)"
   ]
  },
  {
   "cell_type": "markdown",
   "id": "c711f6cf",
   "metadata": {},
   "source": [
    "We find that the observed difference is statistically insignificant at the $\\alpha = 0.05$ level. It seems as if the surface does not have an impact on the observed average success rates of field goal kicks."
   ]
  },
  {
   "attachments": {},
   "cell_type": "markdown",
   "id": "2f47be48",
   "metadata": {},
   "source": [
    "<h2> 4. Question </h2>\n",
    "<ol>\n",
    "    <li>\tHow is distance of attempt correlated with surface? What might explain this? (Coaches get to choose when to kick a field goal, one is never forced) </li>\n",
    "    <li> \tHow is distance correlated with make percentage? </li>\n",
    "</ol>"
   ]
  },
  {
   "cell_type": "code",
   "execution_count": 82,
   "id": "f79367a1",
   "metadata": {},
   "outputs": [
    {
     "name": "stdout",
     "output_type": "stream",
     "text": [
      "-0.002551996001227438\n",
      "-0.33693399701495164\n"
     ]
    }
   ],
   "source": [
    "# Let's calculate the correlation between the columns\n",
    "corr_surface = data['Distance'].corr(data['Grass'])\n",
    "corr_success = data['Distance'].corr(data['Success'])\n",
    "print(corr_surface)\n",
    "print(corr_success)"
   ]
  },
  {
   "cell_type": "markdown",
   "id": "194698e7",
   "metadata": {},
   "source": [
    "The correlation coefficient for distance and or Grass is -0.0025, basically negligible. The correlation coefficiecnt for distance and success rates is -0.3369, meaning as distance increases the success rate goes down. "
   ]
  },
  {
   "cell_type": "code",
   "execution_count": null,
   "id": "ba14f624",
   "metadata": {},
   "outputs": [],
   "source": []
  }
 ],
 "metadata": {
  "kernelspec": {
   "display_name": "deep",
   "language": "python",
   "name": "deep"
  },
  "language_info": {
   "codemirror_mode": {
    "name": "ipython",
    "version": 3
   },
   "file_extension": ".py",
   "mimetype": "text/x-python",
   "name": "python",
   "nbconvert_exporter": "python",
   "pygments_lexer": "ipython3",
   "version": "3.10.8"
  }
 },
 "nbformat": 4,
 "nbformat_minor": 5
}
