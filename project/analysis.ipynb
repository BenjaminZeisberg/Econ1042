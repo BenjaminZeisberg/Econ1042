{
 "cells": [
  {
   "cell_type": "code",
   "execution_count": 2,
   "metadata": {},
   "outputs": [],
   "source": [
    "import pandas as pd\n",
    "import numpy as np\n",
    "from datetime import datetime\n",
    "import scipy.stats as stats\n",
    "import re\n",
    "from dateutil import parser\n",
    "import matplotlib.pyplot as plt\n",
    "import stargazer"
   ]
  },
  {
   "cell_type": "code",
   "execution_count": 3,
   "metadata": {},
   "outputs": [],
   "source": [
    "coaches_poll = pd.read_csv('coaches_poll.csv')\n",
    "race_results = pd.read_csv('race_results.csv')\n",
    "eastern_sprints = pd.read_csv('sprints_results.csv')"
   ]
  },
  {
   "cell_type": "code",
   "execution_count": 4,
   "metadata": {},
   "outputs": [],
   "source": [
    "# Preprocessing the DataFrame\n",
    "coaches_poll = coaches_poll.drop(columns=['Unnamed: 0'])\n",
    "race_results = race_results.drop(columns=['Unnamed: 0'])"
   ]
  },
  {
   "cell_type": "code",
   "execution_count": 5,
   "metadata": {},
   "outputs": [],
   "source": [
    "# Adjusting objects\n",
    "eastern_sprints['Date'] = pd.to_datetime(eastern_sprints['Date'])\n",
    "eastern_sprints['Date'] = eastern_sprints['Date'].dt.strftime('%Y-%m-%d')\n",
    "coaches_poll['Date'].apply(lambda x: datetime.strptime(' '.join(x.split()[:3]), '%B %d, %Y'))\n",
    "race_results['Date'].apply(lambda x: datetime.strptime(' '.join(x.split()[:3]), '%Y-%m-%d'))\n",
    "coaches_poll['Date'] = pd.to_datetime(coaches_poll['Date'])\n",
    "coaches_poll['year'] = coaches_poll['Date'].dt.year\n",
    "race_results['Date'] = pd.to_datetime(race_results['Date'])\n",
    "race_results['year'] = race_results['Date'].dt.year\n",
    "coaches_poll['Team'] = coaches_poll['Team'].astype('string')"
   ]
  },
  {
   "cell_type": "code",
   "execution_count": 6,
   "metadata": {},
   "outputs": [],
   "source": [
    "# Encoding correctly\n",
    "unique_tags = list(coaches_poll['Team'].dropna())\n",
    "tags = list(set([item for item in unique_tags if len(item) == 3]))\n",
    "tags[5] = 'COLG'\n",
    "tags.append('COLU')\n",
    "tags.append('MARI')\n",
    "tags.append('DREX')\n",
    "tags.append('TEMP')"
   ]
  },
  {
   "cell_type": "code",
   "execution_count": 7,
   "metadata": {},
   "outputs": [],
   "source": [
    "def replace_substring(text, substring_list):\n",
    "    pattern = '|'.join(substring_list)\n",
    "    regex = re.compile(pattern, flags=re.IGNORECASE)\n",
    "    match = regex.search(text)\n",
    "    if match:\n",
    "        return match.group()\n",
    "    else:\n",
    "        return text\n",
    "race_results['Team'] = race_results['Team'].apply(lambda x: replace_substring(x, tags))\n",
    "coaches_poll['Team'] = coaches_poll['Team'].apply(lambda x: replace_substring(str(x).lower(), tags))\n",
    "eastern_sprints['Team'] = eastern_sprints['Team'].apply(lambda x: replace_substring(x, tags))\n",
    "race_results['Team'] = race_results['Team'].str.upper()\n",
    "eastern_sprints['Team'] = eastern_sprints['Team'].str.upper()\n",
    "coaches_poll['Team'] = coaches_poll['Team'].str.upper()\n",
    "\n",
    "eastern_sprints['year'] = eastern_sprints['Date'].apply(lambda x: int(x[:4]))"
   ]
  },
  {
   "cell_type": "code",
   "execution_count": 8,
   "metadata": {},
   "outputs": [],
   "source": [
    "# Never thought there would be so many different ways to spell out the boat. \n",
    "boat_dictionary = {\n",
    "    'Varsity 8': '1V',\n",
    "    '2nd Varsity 8': '2V',\n",
    "    '3rd Varsity 8': '3V',\n",
    "    '4th Varsity 8': '4V',\n",
    "    '4V/5V': '4V/5V',\n",
    "    'Fourth Varsity 8': '4V',\n",
    "    '3V Eight': '3V',\n",
    "    'Third Varsity 8': '3V',\n",
    "    'Varsity 8:': '1V',\n",
    "    '2nd Varsity 8:': '2V',\n",
    "    '3rd Varsity Eights':'3V'\n",
    "}\n",
    "# Now we replace weird boat names with the Correct identifier\n",
    "race_results['Boat_correct'] = race_results['Boat'].replace(boat_dictionary) "
   ]
  },
  {
   "cell_type": "code",
   "execution_count": 9,
   "metadata": {},
   "outputs": [],
   "source": [
    "# # Let's start building out the algorithm\n",
    "# # Build function finds first ranking:\n",
    "# test_race = race_results.loc[race_results['year'] == 2022]\n",
    "# test_frame = coaches_poll.loc[coaches_poll['year'] == 2022]\n",
    "# min_value = test_frame['Date'].min()\n",
    "# dates_unique = test_frame['Date'].unique()"
   ]
  },
  {
   "cell_type": "code",
   "execution_count": 10,
   "metadata": {},
   "outputs": [],
   "source": [
    "def assign_winners_losers(frame):\n",
    "    # Check is missing data in it\n",
    "    frame = frame.dropna(subset=['Time'])\n",
    "    frame = frame[(frame['Time'] != '---') & (frame['Time'] != '------')]\n",
    "    try:\n",
    "        frame['Time'] = pd.to_datetime([x.rstrip('*') for x in frame['Time']], format='%M:%S.%f')\n",
    "    except ValueError:\n",
    "        frame['Time'] = pd.to_datetime([x[:-4].rstrip('*') for x in frame['Time']], format='%M:%S')\n",
    "    # Group the dataframe by the 'Date' and 'Notes' columns, and rank the rows by their finishing times\n",
    "    frame['Rank'] = frame.groupby(['Date_place'])['Time'].rank(method='dense')\n",
    "    frame['Points'] = frame['Rank'].apply(lambda x: 1 if x == 1.0 else 0)\n",
    "    # except:\n",
    "    #     print('Found error')\n",
    "    return frame"
   ]
  },
  {
   "cell_type": "code",
   "execution_count": 11,
   "metadata": {},
   "outputs": [],
   "source": [
    "def assign_winners_losers(frame):\n",
    "    # Check for missing data\n",
    "    frame = frame.dropna(subset=['Time'])\n",
    "    frame = frame[(frame['Time'] != '---') & (frame['Time'] != '------')]\n",
    "\n",
    "    # Parse the time strings using dateutil.parser.parse\n",
    "    def parse_time(time_str):\n",
    "        try:\n",
    "            time_str = time_str.rstrip('*')\n",
    "            return parser.parse(time_str).time()\n",
    "        except ValueError:\n",
    "            return None\n",
    "\n",
    "    frame['Time'] = frame['Time'].apply(parse_time)\n",
    "    frame = frame.dropna(subset=['Time'])\n",
    "\n",
    "    # Group the dataframe by the 'Date' and 'Notes' columns, and rank the rows by their finishing times\n",
    "    frame['Rank'] = frame.groupby(['Date_place'])['Time'].rank(method='dense')\n",
    "    frame['Points'] = frame['Rank'].apply(lambda x: 1 if x == 1.0 else 0)\n",
    "\n",
    "    return frame"
   ]
  },
  {
   "cell_type": "code",
   "execution_count": 12,
   "metadata": {},
   "outputs": [],
   "source": [
    "# race_results_1 = race_results.loc[(race_results['year'] == 2022) & (race_results['Boat_correct'] == '1V')]\n",
    "# frame = assign_winners_losers(race_results_1)\n",
    "# frame\n"
   ]
  },
  {
   "cell_type": "code",
   "execution_count": 13,
   "metadata": {},
   "outputs": [],
   "source": [
    "def parse_input_data(df):\n",
    "    grouped_data = df.groupby('Date_place')\n",
    "\n",
    "    match_data = []\n",
    "    for _, group in grouped_data:\n",
    "        matches = group.to_dict('records')\n",
    "        for match in matches:\n",
    "            team1 = match['Team']\n",
    "            result1 = match['Points']\n",
    "            for other_match in matches:\n",
    "                if other_match['Team'] != team1:\n",
    "                    team2 = other_match['Team']\n",
    "                    result2 = other_match['Points']\n",
    "                    winner = team1 if result1 > result2 else team2\n",
    "                    match_data.append((team1, team2, winner))\n",
    "                    break\n",
    "\n",
    "    return match_data\n",
    "\n",
    "def colley_algorithm(df):\n",
    "    parsed_data = parse_input_data(df)\n",
    "\n",
    "    teams = {}\n",
    "    for row in parsed_data:\n",
    "        team1, team2, winner = row\n",
    "        if team1 not in teams:\n",
    "            teams[team1] = {\"index\": len(teams), \"wins\": 0, \"losses\": 0}\n",
    "        if team2 not in teams:\n",
    "            teams[team2] = {\"index\": len(teams), \"wins\": 0, \"losses\": 0}\n",
    "\n",
    "        if winner == team1:\n",
    "            teams[team1][\"wins\"] += 1\n",
    "            teams[team2][\"losses\"] += 1\n",
    "        else:\n",
    "            teams[team2][\"wins\"] += 1\n",
    "            teams[team1][\"losses\"] += 1\n",
    "\n",
    "    n = len(teams)\n",
    "    C = np.identity(n) * 2\n",
    "    b = np.ones((n, 1))\n",
    "\n",
    "    for row in parsed_data:\n",
    "        team1, team2, winner = row\n",
    "        i, j = teams[team1][\"index\"], teams[team2][\"index\"]\n",
    "        C[i][i] += 1\n",
    "        C[j][j] += 1\n",
    "        C[i][j] -= 1\n",
    "        C[j][i] -= 1\n",
    "        if winner == team1:\n",
    "            b[i] += 0.5\n",
    "            b[j] -= 0.5\n",
    "        else:\n",
    "            b[j] += 0.5\n",
    "            b[i] -= 0.5\n",
    "\n",
    "    r = np.linalg.solve(C, b)\n",
    "\n",
    "    rankings = {team: r[teams[team][\"index\"]][0] for team in teams}\n",
    "    sorted_rankings = sorted(rankings.items(), key=lambda x: x[1], reverse=True)\n",
    "\n",
    "    return sorted_rankings"
   ]
  },
  {
   "cell_type": "code",
   "execution_count": 14,
   "metadata": {},
   "outputs": [],
   "source": [
    "def generate(boat):\n",
    "    years = [2022, 2019, 2018, 2017]\n",
    "    result_standings = []\n",
    "    colley_rankings = []\n",
    "    coaches_poll_year = []\n",
    "    unique_dates = eastern_sprints['Date'].unique()\n",
    "    for i, year in enumerate(years):\n",
    "        try:\n",
    "            res = assign_winners_losers(race_results.loc[(race_results['year'] == year) & (race_results['Boat_correct'] == boat)])\n",
    "        except ValueError:\n",
    "            print(f'Year that couldnt convert times is {year}')\n",
    "            try:\n",
    "                frame = race_results.loc[(race_results['year'] == year) & (race_results['Boat_correct'] == boat)]\n",
    "                frame['Time'] = frame['Time'].apply(lambda x: x[:-4])\n",
    "                res = assign_winners_losers(frame)\n",
    "            except ValueError:\n",
    "                print('even changing time did not helped')\n",
    "            continue\n",
    "        coach_poll = coaches_poll.loc[coaches_poll['year'] == year]\n",
    "        unique_dates = coach_poll['Date'].unique()\n",
    "        rankings_ls = []\n",
    "        poll_ls = []\n",
    "        for dates in np.flip(unique_dates):\n",
    "            rankings = colley_algorithm(res.loc[res['Date'] < dates])\n",
    "            rankings_ls.append(rankings)\n",
    "            coach_poll = coaches_poll.loc[(coaches_poll['Date'] == dates) & (coaches_poll['Boat'] == boat)]\n",
    "            poll_ls.append(coach_poll['Team'])\n",
    "        colley_rankings.append(rankings_ls)\n",
    "        coaches_poll_year.append(poll_ls)\n",
    "        eastern_sprints_frame = eastern_sprints.loc[(eastern_sprints['year'] == year) & (eastern_sprints['Boat'] == boat)]\n",
    "        result_standings.append(eastern_sprints_frame['Team'])\n",
    "\n",
    "    colley = []\n",
    "    for i in colley_rankings:\n",
    "        ls = []\n",
    "        for n in i:\n",
    "            rs = [x[0] for x in n]\n",
    "            ls.append(rs)\n",
    "        colley.append(ls)\n",
    "    return result_standings, colley_rankings, coaches_poll_year, colley\n",
    "\n",
    "result_standings, colley_rankings, coaches_poll_year, colley = generate('1V')"
   ]
  },
  {
   "cell_type": "code",
   "execution_count": 15,
   "metadata": {},
   "outputs": [
    {
     "data": {
      "text/html": [
       "<div>\n",
       "<style scoped>\n",
       "    .dataframe tbody tr th:only-of-type {\n",
       "        vertical-align: middle;\n",
       "    }\n",
       "\n",
       "    .dataframe tbody tr th {\n",
       "        vertical-align: top;\n",
       "    }\n",
       "\n",
       "    .dataframe thead th {\n",
       "        text-align: right;\n",
       "    }\n",
       "</style>\n",
       "<table border=\"1\" class=\"dataframe\">\n",
       "  <thead>\n",
       "    <tr style=\"text-align: right;\">\n",
       "      <th></th>\n",
       "      <th>Team</th>\n",
       "    </tr>\n",
       "  </thead>\n",
       "  <tbody>\n",
       "    <tr>\n",
       "      <th>372</th>\n",
       "      <td>YAL</td>\n",
       "    </tr>\n",
       "    <tr>\n",
       "      <th>373</th>\n",
       "      <td>HAR</td>\n",
       "    </tr>\n",
       "    <tr>\n",
       "      <th>374</th>\n",
       "      <td>DAR</td>\n",
       "    </tr>\n",
       "    <tr>\n",
       "      <th>375</th>\n",
       "      <td>SYR</td>\n",
       "    </tr>\n",
       "    <tr>\n",
       "      <th>376</th>\n",
       "      <td>BRO</td>\n",
       "    </tr>\n",
       "    <tr>\n",
       "      <th>377</th>\n",
       "      <td>NOR</td>\n",
       "    </tr>\n",
       "    <tr>\n",
       "      <th>378</th>\n",
       "      <td>PRI</td>\n",
       "    </tr>\n",
       "    <tr>\n",
       "      <th>379</th>\n",
       "      <td>COR</td>\n",
       "    </tr>\n",
       "    <tr>\n",
       "      <th>380</th>\n",
       "      <td>NAV</td>\n",
       "    </tr>\n",
       "    <tr>\n",
       "      <th>381</th>\n",
       "      <td>WIS</td>\n",
       "    </tr>\n",
       "    <tr>\n",
       "      <th>382</th>\n",
       "      <td>BOS</td>\n",
       "    </tr>\n",
       "    <tr>\n",
       "      <th>383</th>\n",
       "      <td>PEN</td>\n",
       "    </tr>\n",
       "    <tr>\n",
       "      <th>384</th>\n",
       "      <td>COL</td>\n",
       "    </tr>\n",
       "    <tr>\n",
       "      <th>385</th>\n",
       "      <td>COL</td>\n",
       "    </tr>\n",
       "    <tr>\n",
       "      <th>386</th>\n",
       "      <td>GEORGETOWN UNIVERSITY</td>\n",
       "    </tr>\n",
       "  </tbody>\n",
       "</table>\n",
       "</div>"
      ],
      "text/plain": [
       "                      Team\n",
       "372                    YAL\n",
       "373                    HAR\n",
       "374                    DAR\n",
       "375                    SYR\n",
       "376                    BRO\n",
       "377                    NOR\n",
       "378                    PRI\n",
       "379                    COR\n",
       "380                    NAV\n",
       "381                    WIS\n",
       "382                    BOS\n",
       "383                    PEN\n",
       "384                    COL\n",
       "385                    COL\n",
       "386  GEORGETOWN UNIVERSITY"
      ]
     },
     "execution_count": 15,
     "metadata": {},
     "output_type": "execute_result"
    }
   ],
   "source": [
    "pd.DataFrame(coaches_poll_year[0][0])"
   ]
  },
  {
   "cell_type": "code",
   "execution_count": 16,
   "metadata": {},
   "outputs": [
    {
     "data": {
      "text/html": [
       "<div>\n",
       "<style scoped>\n",
       "    .dataframe tbody tr th:only-of-type {\n",
       "        vertical-align: middle;\n",
       "    }\n",
       "\n",
       "    .dataframe tbody tr th {\n",
       "        vertical-align: top;\n",
       "    }\n",
       "\n",
       "    .dataframe thead th {\n",
       "        text-align: right;\n",
       "    }\n",
       "</style>\n",
       "<table border=\"1\" class=\"dataframe\">\n",
       "  <thead>\n",
       "    <tr style=\"text-align: right;\">\n",
       "      <th></th>\n",
       "      <th>0</th>\n",
       "      <th>1</th>\n",
       "      <th>2</th>\n",
       "      <th>3</th>\n",
       "      <th>4</th>\n",
       "      <th>5</th>\n",
       "      <th>6</th>\n",
       "      <th>7</th>\n",
       "      <th>8</th>\n",
       "      <th>9</th>\n",
       "      <th>...</th>\n",
       "      <th>171</th>\n",
       "      <th>172</th>\n",
       "      <th>173</th>\n",
       "      <th>174</th>\n",
       "      <th>175</th>\n",
       "      <th>176</th>\n",
       "      <th>177</th>\n",
       "      <th>178</th>\n",
       "      <th>179</th>\n",
       "      <th>180</th>\n",
       "    </tr>\n",
       "  </thead>\n",
       "  <tbody>\n",
       "    <tr>\n",
       "      <th>Team</th>\n",
       "      <td>YAL</td>\n",
       "      <td>BRO</td>\n",
       "      <td>DAR</td>\n",
       "      <td>PRI</td>\n",
       "      <td>HAR</td>\n",
       "      <td>SYR</td>\n",
       "      <td>NOR</td>\n",
       "      <td>WIS</td>\n",
       "      <td>BU</td>\n",
       "      <td>COR</td>\n",
       "      <td>...</td>\n",
       "      <td>NaN</td>\n",
       "      <td>NaN</td>\n",
       "      <td>NaN</td>\n",
       "      <td>NaN</td>\n",
       "      <td>NaN</td>\n",
       "      <td>NaN</td>\n",
       "      <td>NaN</td>\n",
       "      <td>NaN</td>\n",
       "      <td>NaN</td>\n",
       "      <td>NaN</td>\n",
       "    </tr>\n",
       "    <tr>\n",
       "      <th>Team</th>\n",
       "      <td>NaN</td>\n",
       "      <td>NaN</td>\n",
       "      <td>NaN</td>\n",
       "      <td>NaN</td>\n",
       "      <td>NaN</td>\n",
       "      <td>NaN</td>\n",
       "      <td>NaN</td>\n",
       "      <td>NaN</td>\n",
       "      <td>NaN</td>\n",
       "      <td>NaN</td>\n",
       "      <td>...</td>\n",
       "      <td>NaN</td>\n",
       "      <td>NaN</td>\n",
       "      <td>NaN</td>\n",
       "      <td>NaN</td>\n",
       "      <td>NaN</td>\n",
       "      <td>NaN</td>\n",
       "      <td>NaN</td>\n",
       "      <td>NaN</td>\n",
       "      <td>NaN</td>\n",
       "      <td>NaN</td>\n",
       "    </tr>\n",
       "    <tr>\n",
       "      <th>Team</th>\n",
       "      <td>NaN</td>\n",
       "      <td>NaN</td>\n",
       "      <td>NaN</td>\n",
       "      <td>NaN</td>\n",
       "      <td>NaN</td>\n",
       "      <td>NaN</td>\n",
       "      <td>NaN</td>\n",
       "      <td>NaN</td>\n",
       "      <td>NaN</td>\n",
       "      <td>NaN</td>\n",
       "      <td>...</td>\n",
       "      <td>NaN</td>\n",
       "      <td>NaN</td>\n",
       "      <td>NaN</td>\n",
       "      <td>NaN</td>\n",
       "      <td>NaN</td>\n",
       "      <td>NaN</td>\n",
       "      <td>NaN</td>\n",
       "      <td>NaN</td>\n",
       "      <td>NaN</td>\n",
       "      <td>NaN</td>\n",
       "    </tr>\n",
       "    <tr>\n",
       "      <th>Team</th>\n",
       "      <td>NaN</td>\n",
       "      <td>NaN</td>\n",
       "      <td>NaN</td>\n",
       "      <td>NaN</td>\n",
       "      <td>NaN</td>\n",
       "      <td>NaN</td>\n",
       "      <td>NaN</td>\n",
       "      <td>NaN</td>\n",
       "      <td>NaN</td>\n",
       "      <td>NaN</td>\n",
       "      <td>...</td>\n",
       "      <td>BRO</td>\n",
       "      <td>COR</td>\n",
       "      <td>SYR</td>\n",
       "      <td>WIS</td>\n",
       "      <td>PEN</td>\n",
       "      <td>G WASHINGTON</td>\n",
       "      <td>COL</td>\n",
       "      <td>NOR</td>\n",
       "      <td>NAV</td>\n",
       "      <td>GEORGETOWN</td>\n",
       "    </tr>\n",
       "  </tbody>\n",
       "</table>\n",
       "<p>4 rows × 64 columns</p>\n",
       "</div>"
      ],
      "text/plain": [
       "      0    1    2    3    4    5    6    7    8    9    ...  171  172  173  \\\n",
       "Team  YAL  BRO  DAR  PRI  HAR  SYR  NOR  WIS   BU  COR  ...  NaN  NaN  NaN   \n",
       "Team  NaN  NaN  NaN  NaN  NaN  NaN  NaN  NaN  NaN  NaN  ...  NaN  NaN  NaN   \n",
       "Team  NaN  NaN  NaN  NaN  NaN  NaN  NaN  NaN  NaN  NaN  ...  NaN  NaN  NaN   \n",
       "Team  NaN  NaN  NaN  NaN  NaN  NaN  NaN  NaN  NaN  NaN  ...  BRO  COR  SYR   \n",
       "\n",
       "      174  175           176  177  178  179         180  \n",
       "Team  NaN  NaN           NaN  NaN  NaN  NaN         NaN  \n",
       "Team  NaN  NaN           NaN  NaN  NaN  NaN         NaN  \n",
       "Team  NaN  NaN           NaN  NaN  NaN  NaN         NaN  \n",
       "Team  WIS  PEN  G WASHINGTON  COL  NOR  NAV  GEORGETOWN  \n",
       "\n",
       "[4 rows x 64 columns]"
      ]
     },
     "execution_count": 16,
     "metadata": {},
     "output_type": "execute_result"
    }
   ],
   "source": [
    "pd.DataFrame(result_standings)"
   ]
  },
  {
   "cell_type": "code",
   "execution_count": 17,
   "metadata": {},
   "outputs": [
    {
     "name": "stderr",
     "output_type": "stream",
     "text": [
      "/opt/homebrew/lib/python3.10/site-packages/scipy/stats/_stats_py.py:110: RuntimeWarning: The input array could not be properly checked for nan values. nan values will be ignored.\n",
      "  warnings.warn(\"The input array could not be properly \"\n"
     ]
    }
   ],
   "source": [
    "# result_standings = [x.values for x in result_standings]\n",
    "# coaches_poll_year = [x.values for x in coaches_poll_year]\n",
    "\n",
    "# Now using kendall Tau to evaluate predictions\\\n",
    "def calculate_kendalltau(ls, y):\n",
    "    '''\n",
    "    Input list of list with the rankings returns list of kendall tau values.\n",
    "    Input y -> list of list with true labels\n",
    "    '''\n",
    "    result = []\n",
    "    for i, items in enumerate(ls):\n",
    "        tau_values = []\n",
    "        for n in items:\n",
    "            tau, p_value = stats.kendalltau(n[:10], y[i][:10])\n",
    "            tau_values.append(tau)\n",
    "        result.append(tau_values)\n",
    "    return result\n",
    "\n",
    "kendall_colley = calculate_kendalltau(colley, result_standings)\n",
    "kendall_coaches = calculate_kendalltau(coaches_poll_year, result_standings)"
   ]
  },
  {
   "cell_type": "code",
   "execution_count": 18,
   "metadata": {},
   "outputs": [],
   "source": [
    "years = [2022, 2019, 2018, 2017]"
   ]
  },
  {
   "cell_type": "code",
   "execution_count": 19,
   "metadata": {},
   "outputs": [
    {
     "name": "stdout",
     "output_type": "stream",
     "text": [
      "['YAL', 'DAR', 'HAR', 'BRO', 'PRI', 'NOR', 'SYR', 'COR', 'NAV', 'COL', 'MIT', 'BOS', 'OREGON STATE', 'PEN', 'DREX', 'GWU', 'HOBART', 'GEORGETOWN', 'WIS', 'TEMP', 'RUT', 'HOL', 'MARI']\n",
      "['YAL', 'DAR', 'HAR', 'PRI', 'SYR', 'NOR', 'WIS', 'COL', 'BRO', 'GEORGETOWN', 'MIT', 'DREX', 'PEN', 'COR', 'TEMP', 'NAV', 'HOL', 'MARI', 'BOS']\n"
     ]
    }
   ],
   "source": [
    "print(colley[0][3])\n",
    "print(colley[0][2])"
   ]
  },
  {
   "cell_type": "code",
   "execution_count": 20,
   "metadata": {},
   "outputs": [
    {
     "data": {
      "text/plain": [
       "KendalltauResult(correlation=-0.37777777777777777, pvalue=0.1557418430335097)"
      ]
     },
     "execution_count": 20,
     "metadata": {},
     "output_type": "execute_result"
    }
   ],
   "source": [
    "stats.kendalltau(colley[1][3][:10], result_standings[0][:10])"
   ]
  },
  {
   "cell_type": "code",
   "execution_count": 21,
   "metadata": {},
   "outputs": [
    {
     "data": {
      "text/plain": [
       "KendalltauResult(correlation=-0.37777777777777777, pvalue=0.1557418430335097)"
      ]
     },
     "execution_count": 21,
     "metadata": {},
     "output_type": "execute_result"
    }
   ],
   "source": [
    "stats.kendalltau(colley[1][2][:10], result_standings[0][:10])"
   ]
  },
  {
   "cell_type": "code",
   "execution_count": 47,
   "metadata": {},
   "outputs": [
    {
     "data": {
      "image/png": "[encoded data removed]",
      "text/plain": [
       "<Figure size 1000x1000 with 4 Axes>"
      ]
     },
     "metadata": {},
     "output_type": "display_data"
    }
   ],
   "source": [
    "year_ls = [2022, 2019, 2018, 2017]\n",
    "import matplotlib.pyplot as plt\n",
    "fig, ax = plt.subplots(2,2, figsize=(10,10))\n",
    "for i, year in enumerate(years):\n",
    "    ax[i//2, i%2].set_title(f'Kendall-Tau Coefficient for {year_ls[i]} and Boat: 1V')\n",
    "    ax[i//2, i%2].plot(kendall_coaches[i], label='Coaches Polls')\n",
    "    ax[i//2, i%2].plot(kendall_colley[i], label='Colley Rank')\n",
    "    ax[i//2, i%2].legend(loc='upper right')\n",
    "plt.tight_layout()\n",
    "plt.savefig('kendall_tau_coeff')"
   ]
  },
  {
   "cell_type": "code",
   "execution_count": 23,
   "metadata": {},
   "outputs": [],
   "source": [
    "def hot_cold(list1, list2):\n",
    "    result = []\n",
    "    for item in list1:\n",
    "        if item in list2:\n",
    "            index1 = list1.index(item)\n",
    "            index2 = list2.index(item)\n",
    "            \n",
    "            if index1 > index2:\n",
    "                result.append(-1)\n",
    "            elif index1 < index2:\n",
    "                result.append(1)\n",
    "            else:\n",
    "                result.append(0)\n",
    "        else:\n",
    "            result.append(0)\n",
    "    return result\n",
    "\n",
    "# hot_cold(list(coaches_poll_year[0][0]),list(coaches_poll_year[0][1]))"
   ]
  },
  {
   "cell_type": "code",
   "execution_count": 24,
   "metadata": {},
   "outputs": [],
   "source": [
    "def hot_cold(list1, list2):\n",
    "    result = {}\n",
    "    for item in list1:\n",
    "        if item in list2:\n",
    "            index1 = list1.index(item)\n",
    "            index2 = list2.index(item)\n",
    "\n",
    "            if index1 > index2:\n",
    "                result[item] = -1\n",
    "            elif index1 < index2:\n",
    "                result[item] = 1\n",
    "            else:\n",
    "                result[item] = 0\n",
    "        else:\n",
    "            result[item] = 0\n",
    "    return result"
   ]
  },
  {
   "cell_type": "code",
   "execution_count": 25,
   "metadata": {},
   "outputs": [],
   "source": [
    "# def hot_cold(list1, list2):\n",
    "#     encoded_dict = {}\n",
    "#     for element in list1:\n",
    "#         try:\n",
    "#             index1 = list1.index(element)\n",
    "#             index2 = list2.index(element)\n",
    "#             encoded_dict[element] = 1 if index2 < index1 else 0\n",
    "#         except ValueError:\n",
    "#             encoded_dict[element] = float('nan')\n",
    "#     return encoded_dict\n"
   ]
  },
  {
   "cell_type": "code",
   "execution_count": 26,
   "metadata": {},
   "outputs": [],
   "source": [
    "def formatting(coaches_poll_year, colley):\n",
    "    #result_standings, colley_rankings, coaches_poll_year, colley\n",
    "    hot_cold_coaches_poll = []\n",
    "    for i in range(0, len(coaches_poll_year)):\n",
    "        hot_cold_coaches_poll.append(hot_cold(list(coaches_poll_year[i][0][:10]), list(coaches_poll_year[i][1][:10])))\n",
    "\n",
    "    hot_cold_colley = []\n",
    "    for i in range(0, len(colley)):\n",
    "        hot_cold_colley.append(hot_cold(list(colley[i][0][:10]), colley[i][1][:10]))\n",
    "\n",
    "    return hot_cold_coaches_poll, hot_cold_colley\n",
    "\n",
    "# Get results for all Boats\n",
    "boat_types = ['4V', '3V', '2V', '1V']\n",
    "hot_cold_all_coach = []\n",
    "hot_cold_all_colley = []\n",
    "coaches_all_poll = []\n",
    "colley_all = []\n",
    "results_all = []\n",
    "for i in boat_types:\n",
    "    result_standings, colley_rankings, coaches_poll_year, colley = generate(i)\n",
    "    # now we format that result\n",
    "    hot_cold_coaches_poll, hot_cold_colley = formatting(coaches_poll_year, colley)\n",
    "    hot_cold_all_coach.append(hot_cold_coaches_poll)\n",
    "    hot_cold_all_colley.append(hot_cold_colley)\n",
    "    coaches_all_poll.append(coaches_poll_year)\n",
    "    colley_all.append(colley)\n",
    "    results_all.append(result_standings)"
   ]
  },
  {
   "cell_type": "code",
   "execution_count": 27,
   "metadata": {},
   "outputs": [
    {
     "name": "stderr",
     "output_type": "stream",
     "text": [
      "/var/folders/ml/57p2p5r56p35n0ttkg342kmw0000gn/T/ipykernel_16569/1918448287.py:1: VisibleDeprecationWarning: Creating an ndarray from ragged nested sequences (which is a list-or-tuple of lists-or-tuples-or ndarrays with different lengths or shapes) is deprecated. If you meant to do this, you must specify 'dtype=object' when creating the ndarray.\n",
      "  np.array(coaches_poll_year).shape\n"
     ]
    },
    {
     "data": {
      "text/plain": [
       "(4, 4)"
      ]
     },
     "execution_count": 27,
     "metadata": {},
     "output_type": "execute_result"
    }
   ],
   "source": [
    "np.array(coaches_poll_year).shape"
   ]
  },
  {
   "cell_type": "code",
   "execution_count": 28,
   "metadata": {},
   "outputs": [],
   "source": [
    "# we take the first poll\n",
    "coaches_all_poll= [[sublist[1] for sublist in outer_list] for outer_list in coaches_all_poll]"
   ]
  },
  {
   "cell_type": "code",
   "execution_count": 29,
   "metadata": {},
   "outputs": [
    {
     "name": "stdout",
     "output_type": "stream",
     "text": [
      "[[{'DAR': 0, 'YAL': 0, 'HAR': 0, 'BOS': 1, 'BRO': -1, 'PRI': 0, 'SYR': 1, 'NAV': -1, 'WIS': 0, 'COR': -1}, {'YAL': 0, 'PRI': 0, 'HAR': 0, 'DAR': 0, 'BOS': 0, 'NAV': 0, 'SYR': 1, 'BRO': -1, 'WIS': 0, 'GWU': 0}, {'PRI': 0, 'YAL': 1, 'HAR': -1, 'NAV': 0, 'BRO': 1, 'DAR': -1, 'BOS': 0, 'COR': -1, 'WIS': -1, 'SYR': 0}, {'BOS': 0, 'BRO': 0, 'HAR': 0, 'PRI': 0, 'YAL': 1, 'DAR': 0, 'NAV': -1, 'WIS': 1, 'COR': -1, 'SYR': 0}], [{'YAL': 0, 'HAR': 0, 'DAR': 0, 'PRI': 1, 'BRO': -1, 'SYR': 0, 'NAV': 0, 'NOR': 0, 'BOS': 0, 'WIS': 0}, {'YAL': 0, 'PRI': 0, 'HAR': 0, 'BRO': 1, 'NOR': 1, 'BOS': 1, 'SYR': 0, 'DAR': -1, 'NAV': 0, 'COR': 0}, {'PRI': 1, 'YAL': -1, 'NOR': 0, 'HAR': 0, 'BRO': 0, 'BOS': 1, 'DAR': 0, 'SYR': -1, 'WIS': 0, 'NAV': 0}, {'HAR': 0, 'YAL': 0, 'PRI': 0, 'BOS': 0, 'BRO': 1, 'NOR': -1, 'NAV': 1, 'DAR': -1, 'WIS': 0, 'COR': 0}], [{'YAL': 0, 'DAR': 0, 'BRO': 0, 'HAR': 0, 'SYR': 0, 'PRI': 0, 'BOS': 0, 'WIS': 1, 'NAV': -1, 'NOR': 0}, {'YAL': 0, 'BRO': 0, 'HAR': 0, 'PRI': 0, 'NOR': 0, 'BOS': 0, 'SYR': 1, 'DAR': -1, 'NAV': 0, 'COR': 0}, {'NOR': 0, 'PRI': 0, 'YAL': 0, 'HAR': 0, 'BRO': 0, 'DAR': 0, 'BOS': 0, 'SYR': 0, 'COR': 0, 'WIS': 0}, {'YAL': 0, 'NOR': 0, 'HAR': 0, 'BOS': 0, 'BRO': 0, 'PRI': 0, 'DAR': 0, 'WIS': 0, 'PEN': 1, 'NAV': -1}], [{'YAL': 0, 'HAR': 0, 'DAR': 0, 'SYR': 0, 'BRO': 0, 'NOR': 0, 'PRI': 0, 'COR': 0, 'NAV': 1, 'WIS': -1}, {'YAL': 0, 'HAR': 0, 'BRO': 0, 'NOR': 0, 'PRI': 0, 'BOS': 0, 'SYR': 0, 'DAR': 0, 'NAV': 0, 'PEN': 0}, {'YAL': 0, 'BRO': 0, 'HAR': 0, 'PRI': 1, 'NOR': -1, 'DAR': 0, 'BOS': 0, 'WIS': 0, 'COR': 0, 'SYR': 0}, {'YAL': 0, 'HAR': 0, 'PRI': 0, 'DAR': 0, 'BOS': 1, 'NOR': -1, 'BRO': 1, 'PEN': -1, 'WIS': 1, 'GEORGE WASHINGTON': 0}]]\n"
     ]
    }
   ],
   "source": [
    "print(hot_cold_all_coach)"
   ]
  },
  {
   "cell_type": "code",
   "execution_count": 30,
   "metadata": {},
   "outputs": [
    {
     "name": "stdout",
     "output_type": "stream",
     "text": [
      "(4, 4)\n",
      "(4, 4)\n",
      "(4, 4)\n"
     ]
    },
    {
     "name": "stderr",
     "output_type": "stream",
     "text": [
      "/var/folders/ml/57p2p5r56p35n0ttkg342kmw0000gn/T/ipykernel_16569/1587601477.py:2: VisibleDeprecationWarning: Creating an ndarray from ragged nested sequences (which is a list-or-tuple of lists-or-tuples-or ndarrays with different lengths or shapes) is deprecated. If you meant to do this, you must specify 'dtype=object' when creating the ndarray.\n",
      "  print(np.array(coaches_all_poll).shape)\n",
      "/var/folders/ml/57p2p5r56p35n0ttkg342kmw0000gn/T/ipykernel_16569/1587601477.py:3: VisibleDeprecationWarning: Creating an ndarray from ragged nested sequences (which is a list-or-tuple of lists-or-tuples-or ndarrays with different lengths or shapes) is deprecated. If you meant to do this, you must specify 'dtype=object' when creating the ndarray.\n",
      "  print(np.array(results_all).shape)\n"
     ]
    }
   ],
   "source": [
    "print(np.array(hot_cold_all_coach).shape)\n",
    "print(np.array(coaches_all_poll).shape)\n",
    "print(np.array(results_all).shape)"
   ]
  },
  {
   "cell_type": "code",
   "execution_count": 31,
   "metadata": {},
   "outputs": [
    {
     "name": "stdout",
     "output_type": "stream",
     "text": [
      "{'Bos': [1, 0, 2], 'Yal': [2, 1, 3]}\n"
     ]
    }
   ],
   "source": [
    "# def combine_dic(dic_1, dic_2, dic_3):\n",
    "#     keys_1 = dic_1.keys()\n",
    "#     keys_2 = dic_2.keys()\n",
    "#     keys_3 = dic_3.keys()\n",
    "#     values = list(dic_1.values())\n",
    "#     # check if keys are in both dictionaries\n",
    "#     for key in keys_1:\n",
    "#         if key in dic_2:\n",
    "#             if key in dic_3:\n",
    "#                 dic_1[key] = [dic_1[key], dic_2[key]]\n",
    "    \n",
    "#     return dic_1\n",
    "def combine_dic(dic_1, dic_2, dic_3):\n",
    "    keys = set(dic_1.keys()) | set(dic_2.keys()) | set(dic_3.keys())\n",
    "    combined_dic = {}\n",
    "\n",
    "    for key in keys:\n",
    "        combined_dic[key] = []\n",
    "        if key in dic_1:\n",
    "            combined_dic[key].append(dic_1[key])\n",
    "        if key in dic_2:\n",
    "            combined_dic[key].append(dic_2[key])\n",
    "        if key in dic_3:\n",
    "            combined_dic[key].append(dic_3[key])\n",
    "    \n",
    "    return combined_dic\n",
    "\n",
    "test_dic_1 = [{'Bos': 1, 'Yal': 2}]\n",
    "test_dic_2 = [{'Bos': 0, 'Yal': 1}]\n",
    "test_dic_3 = [{'Bos': 2, 'Yal': 3}]\n",
    "\n",
    "dic_ = combine_dic(test_dic_1[0], test_dic_2[0], test_dic_3[0])\n",
    "print(dic_)"
   ]
  },
  {
   "cell_type": "code",
   "execution_count": 32,
   "metadata": {},
   "outputs": [],
   "source": [
    "def places_rank(coaches_poll_year, result_standings):\n",
    "    # first coaches poll\n",
    "    # first_poll = [x[0] for x in coaches_poll_year]\n",
    "    first_poll = [x.tolist()[:10] for x in coaches_poll_year]\n",
    "    numbers = np.arange(0, 10, 1)\n",
    "    first_poll_places =  [dict(zip(tag, numbers)) for tag in first_poll]\n",
    "\n",
    "    results_new = [x.tolist()[:10] for x in result_standings]\n",
    "    results_new_places = [dict(zip(tag, numbers)) for tag in results_new]\n",
    "    \n",
    "    return first_poll_places, results_new_places\n",
    "\n",
    "def mapping(list_1, list_2, list_3):\n",
    "    results = []\n",
    "    for i in range(len(list_1)):\n",
    "        result = [[key, list_1[i][key], key, list_2[i][key], list_3[i][idx]] for idx, key in enumerate(list_1[i].keys() & list_2[i].keys())]\n",
    "        results.append(result)\n",
    "    return results\n",
    "\n",
    "# test_1, test_2 = places_rank(coaches_all_poll[0], results_all[0])"
   ]
  },
  {
   "cell_type": "code",
   "execution_count": 33,
   "metadata": {},
   "outputs": [],
   "source": [
    "# We have four years of data\n",
    "hot_cold_all_coach = [sublist[0] for sublist in hot_cold_all_coach]\n",
    "for i, years in enumerate(coaches_all_poll):\n",
    "    dic_1, dic_2 = places_rank(coaches_all_poll[i], results_all[i])\n",
    "    # print(dic_1)\n",
    "    # combine_dic(dic_1, dic_2, hot_cold_coaches_poll[i])\n",
    "\n",
    "combined_dict = []\n",
    "for idx in range(4):\n",
    "    combined_dict.append(combine_dic(dic_1[idx], dic_2[idx], hot_cold_all_coach[idx]))\n",
    "\n",
    "# Now we get the hot_hand"
   ]
  },
  {
   "cell_type": "code",
   "execution_count": 34,
   "metadata": {},
   "outputs": [],
   "source": [
    "# Now we create the dataframe to predict\n",
    "ls_keys = []\n",
    "column = []\n",
    "for dic in combined_dict:\n",
    "    keys = dic.keys()\n",
    "    # for each key we get the values and add them to the array\n",
    "    for key in keys:\n",
    "        ls_keys.append(key)\n",
    "        nan_array = np.full(3, np.nan)\n",
    "        values = dic[key]\n",
    "        for i, value in enumerate(values):\n",
    "            nan_array[i] = value\n",
    "        column.append(nan_array)\n"
   ]
  },
  {
   "cell_type": "code",
   "execution_count": 35,
   "metadata": {},
   "outputs": [],
   "source": [
    "df = pd.DataFrame(column, columns=['Poll', 'Result', 'Hot_cold'])\n",
    "df['Teams'] = ls_keys\n",
    "df = df.dropna()"
   ]
  },
  {
   "cell_type": "code",
   "execution_count": 36,
   "metadata": {},
   "outputs": [
    {
     "name": "stdout",
     "output_type": "stream",
     "text": [
      "30\n"
     ]
    }
   ],
   "source": [
    "import statsmodels.api as sm\n",
    "print(len(df))\n",
    "# create the X matrix with poll-pred and hot_cold\n",
    "X = df[['Poll', 'Hot_cold']]\n",
    "X_2 = df['Poll'].copy()\n",
    "\n",
    "# add constant column to X matrix\n",
    "# X = sm.add_constant(X)\n",
    "# X_2 = sm.add_constant(X_2)\n",
    "\n",
    "# create the y vector with actual outcomes\n",
    "y = df['Result']"
   ]
  },
  {
   "cell_type": "code",
   "execution_count": 38,
   "metadata": {},
   "outputs": [],
   "source": [
    "from stargazer.stargazer import Stargazer"
   ]
  },
  {
   "cell_type": "code",
   "execution_count": 53,
   "metadata": {},
   "outputs": [
    {
     "name": "stdout",
     "output_type": "stream",
     "text": [
      "Optimization terminated successfully.\n",
      "         Current function value: 1.658824\n",
      "         Iterations: 29\n",
      "         Function evaluations: 31\n",
      "         Gradient evaluations: 31\n",
      "                             OrderedModel Results                             \n",
      "==============================================================================\n",
      "Dep. Variable:                      y   Log-Likelihood:                -49.765\n",
      "Model:                   OrderedModel   AIC:                             121.5\n",
      "Method:            Maximum Likelihood   BIC:                             136.9\n",
      "Date:                Thu, 04 May 2023                                         \n",
      "Time:                        21:03:52                                         \n",
      "No. Observations:                  30                                         \n",
      "Df Residuals:                      19                                         \n",
      "Df Model:                          11                                         \n",
      "==============================================================================\n",
      "                 coef    std err          z      P>|z|      [0.025      0.975]\n",
      "------------------------------------------------------------------------------\n",
      "Poll           0.5644      0.090      6.251      0.000       0.387       0.741\n",
      "Hot_cold       0.2386      0.463      0.515      0.606      -0.669       1.147\n",
      "0/1           -0.0361      0.329     -0.110      0.913      -0.681       0.609\n",
      "1/2           -0.1427      0.393     -0.363      0.716      -0.912       0.627\n",
      "2/3           -0.3204      0.434     -0.739      0.460      -1.171       0.530\n",
      "3/4           -0.7143      0.512     -1.396      0.163      -1.717       0.288\n",
      "4/5           -0.3222      0.426     -0.757      0.449      -1.156       0.512\n",
      "5/6           -0.6364      0.588     -1.082      0.279      -1.790       0.517\n",
      "6/7           -0.8581      0.665     -1.290      0.197      -2.162       0.446\n",
      "7/8           -0.3964      0.526     -0.754      0.451      -1.427       0.635\n",
      "8/9           -0.4920      0.651     -0.756      0.450      -1.768       0.783\n",
      "==============================================================================\n",
      "\\begin{table}[!htbp] \\centering\n",
      "\\begin{tabular}{@{\\extracolsep{5pt}}lc}\n",
      "\\\\[-1.8ex]\\hline\n",
      "\\hline \\\\[-1.8ex]\n",
      "& \\multicolumn{1}{c}{\\textit{Dependent variable:}} \\\n",
      "\\cr \\cline{1-2}\n",
      "\\\\[-1.8ex] & \\multicolumn{1}{c}{Dep: Ranking at Eastern Sprints}  \\\\\n",
      "\\\\[-1.8ex] & (1) \\\\\n",
      "\\hline \\\\[-1.8ex]\n",
      " 0/1 & -0.036$^{}$ \\\\\n",
      "  & (0.329) \\\\\n",
      " 1/2 & -0.143$^{}$ \\\\\n",
      "  & (0.393) \\\\\n",
      " 2/3 & -0.320$^{}$ \\\\\n",
      "  & (0.434) \\\\\n",
      " 3/4 & -0.714$^{}$ \\\\\n",
      "  & (0.512) \\\\\n",
      " 4/5 & -0.322$^{}$ \\\\\n",
      "  & (0.426) \\\\\n",
      " 5/6 & -0.636$^{}$ \\\\\n",
      "  & (0.588) \\\\\n",
      " 6/7 & -0.858$^{}$ \\\\\n",
      "  & (0.665) \\\\\n",
      " 7/8 & -0.396$^{}$ \\\\\n",
      "  & (0.526) \\\\\n",
      " 8/9 & -0.492$^{}$ \\\\\n",
      "  & (0.651) \\\\\n",
      " Hot_cold & 0.239$^{}$ \\\\\n",
      "  & (0.463) \\\\\n",
      " Poll & 0.564$^{***}$ \\\\\n",
      "  & (0.090) \\\\\n",
      "\\hline \\\\[-1.8ex]\n",
      " Observations & 30 \\\\\n",
      " $R^2$ &  \\\\\n",
      " Adjusted $R^2$ &  \\\\\n",
      " Residual Std. Error & 1.000(df = 19)  \\\\\n",
      " F Statistic & $^{}$ (df = 11; 19) \\\\\n",
      "\\hline\n",
      "\\hline \\\\[-1.8ex]\n",
      "\\textit{Note:} & \\multicolumn{1}{r}{$^{*}$p$<$0.1; $^{**}$p$<$0.05; $^{***}$p$<$0.01} \\\\\n",
      " & \\multicolumn{1}{r}\\textit{The Standard errors reported in parentheses are heteroskedasticity robust (HC2).} \\\\\n",
      "\\end{tabular}\n",
      "\\end{table}\n"
     ]
    }
   ],
   "source": [
    "import statsmodels.api as sm\n",
    "import numpy as np\n",
    "from scipy.stats import chi2\n",
    "from sklearn.preprocessing import LabelEncoder\n",
    "# from statsmodels.stats.discrete import OrderedModel\n",
    "from statsmodels.miscmodels.ordinal_model import OrderedModel\n",
    "\n",
    "# Encode the outcome variable as a set of dummy variables\n",
    "encoder = LabelEncoder()\n",
    "# X_2['Poll'] = encoder.fit_transform(X_2['Poll'])\n",
    "y_encoded = encoder.fit_transform(y)\n",
    "\n",
    "# Fit the ordinal regression model using the OrderedModel class\n",
    "model = OrderedModel(endog=y_encoded, exog=X).fit(method='bfgs', cov_type='HC2')\n",
    "\n",
    "# Print the summary of the model\n",
    "print(model.summary())\n",
    "table_1 = Stargazer([model])\n",
    "table_1.custom_columns(['Dep: Ranking at Eastern Sprints'], [1])\n",
    "table_1.add_custom_notes([\"The Standard errors reported in parentheses are heteroskedasticity robust (HC2).\"])\n"
   ]
  },
  {
   "cell_type": "code",
   "execution_count": 54,
   "metadata": {},
   "outputs": [
    {
     "name": "stdout",
     "output_type": "stream",
     "text": [
      "\\begin{table}[!htbp] \\centering\n",
      "\\begin{tabular}{@{\\extracolsep{5pt}}lc}\n",
      "\\\\[-1.8ex]\\hline\n",
      "\\hline \\\\[-1.8ex]\n",
      "& \\multicolumn{1}{c}{\\textit{Dependent variable:}} \\\n",
      "\\cr \\cline{1-2}\n",
      "\\\\[-1.8ex] & \\multicolumn{1}{c}{Dep: Ranking at Eastern Sprints}  \\\\\n",
      "\\\\[-1.8ex] & (1) \\\\\n",
      "\\hline \\\\[-1.8ex]\n",
      " 0/1 & -0.036$^{}$ \\\\\n",
      "  & (0.329) \\\\\n",
      " 1/2 & -0.143$^{}$ \\\\\n",
      "  & (0.393) \\\\\n",
      " 2/3 & -0.320$^{}$ \\\\\n",
      "  & (0.434) \\\\\n",
      " 3/4 & -0.714$^{}$ \\\\\n",
      "  & (0.512) \\\\\n",
      " 4/5 & -0.322$^{}$ \\\\\n",
      "  & (0.426) \\\\\n",
      " 5/6 & -0.636$^{}$ \\\\\n",
      "  & (0.588) \\\\\n",
      " 6/7 & -0.858$^{}$ \\\\\n",
      "  & (0.665) \\\\\n",
      " 7/8 & -0.396$^{}$ \\\\\n",
      "  & (0.526) \\\\\n",
      " 8/9 & -0.492$^{}$ \\\\\n",
      "  & (0.651) \\\\\n",
      " Hot_cold & 0.239$^{}$ \\\\\n",
      "  & (0.463) \\\\\n",
      " Poll & 0.564$^{***}$ \\\\\n",
      "  & (0.090) \\\\\n",
      "\\hline \\\\[-1.8ex]\n",
      " Observations & 30 \\\\\n",
      " $R^2$ &  \\\\\n",
      " Adjusted $R^2$ &  \\\\\n",
      " Residual Std. Error & 1.000(df = 19)  \\\\\n",
      " F Statistic & $^{}$ (df = 11; 19) \\\\\n",
      "\\hline\n",
      "\\hline \\\\[-1.8ex]\n",
      "\\textit{Note:} & \\multicolumn{1}{r}{$^{*}$p$<$0.1; $^{**}$p$<$0.05; $^{***}$p$<$0.01} \\\\\n",
      " & \\multicolumn{1}{r}\\textit{The Standard errors reported in parentheses are heteroskedasticity robust (HC2).} \\\\\n",
      "\\end{tabular}\n",
      "\\end{table}\n"
     ]
    }
   ],
   "source": [
    "print(table_1.render_latex())"
   ]
  },
  {
   "cell_type": "code",
   "execution_count": 48,
   "metadata": {},
   "outputs": [
    {
     "data": {
      "text/html": [
       "<table style=\"text-align:center\"><tr><td colspan=\"2\" style=\"border-bottom: 1px solid black\"></td></tr><tr><td style=\"text-align:left\"></td><td colspan=\"1\"><em>Dependent variable:y</em></td></tr><tr><td style=\"text-align:left\"></td><tr><td style=\"text-align:left\"></td><td>(1)</td></tr><tr><td colspan=\"2\" style=\"border-bottom: 1px solid black\"></td></tr><tr><td style=\"text-align:left\">0/1</td><td>-0.036<sup></sup></td></tr><tr><td style=\"text-align:left\"></td><td>(0.410)</td></tr><tr><td style=\"text-align:left\">1/2</td><td>-0.143<sup></sup></td></tr><tr><td style=\"text-align:left\"></td><td>(0.441)</td></tr><tr><td style=\"text-align:left\">2/3</td><td>-0.320<sup></sup></td></tr><tr><td style=\"text-align:left\"></td><td>(0.447)</td></tr><tr><td style=\"text-align:left\">3/4</td><td>-0.714<sup></sup></td></tr><tr><td style=\"text-align:left\"></td><td>(0.538)</td></tr><tr><td style=\"text-align:left\">4/5</td><td>-0.322<sup></sup></td></tr><tr><td style=\"text-align:left\"></td><td>(0.457)</td></tr><tr><td style=\"text-align:left\">5/6</td><td>-0.636<sup></sup></td></tr><tr><td style=\"text-align:left\"></td><td>(0.654)</td></tr><tr><td style=\"text-align:left\">6/7</td><td>-0.858<sup></sup></td></tr><tr><td style=\"text-align:left\"></td><td>(0.662)</td></tr><tr><td style=\"text-align:left\">7/8</td><td>-0.396<sup></sup></td></tr><tr><td style=\"text-align:left\"></td><td>(0.527)</td></tr><tr><td style=\"text-align:left\">8/9</td><td>-0.492<sup></sup></td></tr><tr><td style=\"text-align:left\"></td><td>(0.642)</td></tr><tr><td style=\"text-align:left\">Hot_cold</td><td>0.239<sup></sup></td></tr><tr><td style=\"text-align:left\"></td><td>(0.458)</td></tr><tr><td style=\"text-align:left\">Poll</td><td>0.564<sup>***</sup></td></tr><tr><td style=\"text-align:left\"></td><td>(0.105)</td></tr><td colspan=\"2\" style=\"border-bottom: 1px solid black\"></td></tr><tr><td style=\"text-align: left\">Observations</td><td>30</td></tr><tr><td style=\"text-align: left\">R<sup>2</sup></td><td></td></tr><tr><td style=\"text-align: left\">Adjusted R<sup>2</sup></td><td></td></tr><tr><td style=\"text-align: left\">Residual Std. Error</td><td>1.000 (df=19)</td></tr><tr><td style=\"text-align: left\">F Statistic</td><td><sup></sup> (df=11; 19)</td></tr><tr><td colspan=\"2\" style=\"border-bottom: 1px solid black\"></td></tr><tr><td style=\"text-align: left\">Note:</td>\n",
       " <td colspan=\"1\" style=\"text-align: right\">\n",
       "  <sup>*</sup>p&lt;0.1;\n",
       "  <sup>**</sup>p&lt;0.05;\n",
       "  <sup>***</sup>p&lt;0.01\n",
       " </td></tr></table>"
      ],
      "text/plain": [
       "<stargazer.stargazer.Stargazer at 0x137840e80>"
      ]
     },
     "execution_count": 48,
     "metadata": {},
     "output_type": "execute_result"
    }
   ],
   "source": []
  },
  {
   "cell_type": "code",
   "execution_count": null,
   "metadata": {},
   "outputs": [],
   "source": []
  },
  {
   "cell_type": "code",
   "execution_count": null,
   "metadata": {},
   "outputs": [
    {
     "name": "stdout",
     "output_type": "stream",
     "text": [
      "                            OLS Regression Results                            \n",
      "==============================================================================\n",
      "Dep. Variable:                 Result   R-squared:                       0.726\n",
      "Model:                            OLS   Adj. R-squared:                  0.706\n",
      "Method:                 Least Squares   F-statistic:                     35.76\n",
      "Date:                Thu, 04 May 2023   Prob (F-statistic):           2.57e-08\n",
      "Time:                        12:06:20   Log-Likelihood:                -54.142\n",
      "No. Observations:                  30   AIC:                             114.3\n",
      "Df Residuals:                      27   BIC:                             118.5\n",
      "Df Model:                           2                                         \n",
      "Covariance Type:            nonrobust                                         \n",
      "==============================================================================\n",
      "                 coef    std err          t      P>|t|      [0.025      0.975]\n",
      "------------------------------------------------------------------------------\n",
      "const          0.6056      0.472      1.283      0.210      -0.363       1.574\n",
      "Poll           0.8462      0.101      8.375      0.000       0.639       1.053\n",
      "Hot_cold       0.3174      0.653      0.486      0.631      -1.022       1.656\n",
      "==============================================================================\n",
      "Omnibus:                        0.350   Durbin-Watson:                   2.109\n",
      "Prob(Omnibus):                  0.839   Jarque-Bera (JB):                0.509\n",
      "Skew:                           0.024   Prob(JB):                        0.775\n",
      "Kurtosis:                       2.364   Cond. No.                         11.2\n",
      "==============================================================================\n",
      "\n",
      "Notes:\n",
      "[1] Standard Errors assume that the covariance matrix of the errors is correctly specified.\n"
     ]
    }
   ],
   "source": [
    "# assuming your data is in a dataframe called `df`, with columns 'actual', 'poll-pred', and 'hot_cold'\n",
    "model = sm.OLS(y, X).fit()\n",
    "print(model.summary())"
   ]
  },
  {
   "cell_type": "code",
   "execution_count": null,
   "metadata": {},
   "outputs": [
    {
     "name": "stdout",
     "output_type": "stream",
     "text": [
      "                            OLS Regression Results                            \n",
      "==============================================================================\n",
      "Dep. Variable:                 Result   R-squared:                       0.724\n",
      "Model:                            OLS   Adj. R-squared:                  0.714\n",
      "Method:                 Least Squares   F-statistic:                     73.28\n",
      "Date:                Thu, 04 May 2023   Prob (F-statistic):           2.64e-09\n",
      "Time:                        12:06:22   Log-Likelihood:                -54.273\n",
      "No. Observations:                  30   AIC:                             112.5\n",
      "Df Residuals:                      28   BIC:                             115.3\n",
      "Df Model:                           1                                         \n",
      "Covariance Type:            nonrobust                                         \n",
      "==============================================================================\n",
      "                 coef    std err          t      P>|t|      [0.025      0.975]\n",
      "------------------------------------------------------------------------------\n",
      "const          0.6209      0.465      1.336      0.192      -0.331       1.573\n",
      "Poll           0.8366      0.098      8.561      0.000       0.636       1.037\n",
      "==============================================================================\n",
      "Omnibus:                        0.345   Durbin-Watson:                   2.114\n",
      "Prob(Omnibus):                  0.841   Jarque-Bera (JB):                0.506\n",
      "Skew:                          -0.014   Prob(JB):                        0.776\n",
      "Kurtosis:                       2.364   Cond. No.                         8.14\n",
      "==============================================================================\n",
      "\n",
      "Notes:\n",
      "[1] Standard Errors assume that the covariance matrix of the errors is correctly specified.\n"
     ]
    }
   ],
   "source": [
    "# assuming your data is in a dataframe called `df`, with columns 'actual', 'poll-pred', and 'hot_cold'\n",
    "model_2 = sm.OLS(y, X_2).fit()\n",
    "print(model_2.summary())"
   ]
  },
  {
   "cell_type": "code",
   "execution_count": null,
   "metadata": {},
   "outputs": [
    {
     "name": "stdout",
     "output_type": "stream",
     "text": [
      "Accuracy: 0.16666666666666666\n",
      "Classification Report:\n",
      "               precision    recall  f1-score   support\n",
      "\n",
      "         0.0       0.50      1.00      0.67         1\n",
      "         1.0       0.00      0.00      0.00         0\n",
      "         2.0       0.00      0.00      0.00         1\n",
      "         3.0       0.00      0.00      0.00         0\n",
      "         4.0       0.00      0.00      0.00         1\n",
      "         5.0       0.00      0.00      0.00         1\n",
      "         6.0       0.00      0.00      0.00         0\n",
      "         7.0       0.00      0.00      0.00         1\n",
      "         9.0       0.00      0.00      0.00         1\n",
      "\n",
      "    accuracy                           0.17         6\n",
      "   macro avg       0.06      0.11      0.07         6\n",
      "weighted avg       0.08      0.17      0.11         6\n",
      "\n"
     ]
    },
    {
     "name": "stderr",
     "output_type": "stream",
     "text": [
      "/opt/homebrew/lib/python3.10/site-packages/sklearn/linear_model/_logistic.py:444: ConvergenceWarning: lbfgs failed to converge (status=1):\n",
      "STOP: TOTAL NO. of ITERATIONS REACHED LIMIT.\n",
      "\n",
      "Increase the number of iterations (max_iter) or scale the data as shown in:\n",
      "    https://scikit-learn.org/stable/modules/preprocessing.html\n",
      "Please also refer to the documentation for alternative solver options:\n",
      "    https://scikit-learn.org/stable/modules/linear_model.html#logistic-regression\n",
      "  n_iter_i = _check_optimize_result(\n",
      "/opt/homebrew/lib/python3.10/site-packages/sklearn/metrics/_classification.py:1334: UndefinedMetricWarning: Precision and F-score are ill-defined and being set to 0.0 in labels with no predicted samples. Use `zero_division` parameter to control this behavior.\n",
      "  _warn_prf(average, modifier, msg_start, len(result))\n",
      "/opt/homebrew/lib/python3.10/site-packages/sklearn/metrics/_classification.py:1334: UndefinedMetricWarning: Recall and F-score are ill-defined and being set to 0.0 in labels with no true samples. Use `zero_division` parameter to control this behavior.\n",
      "  _warn_prf(average, modifier, msg_start, len(result))\n",
      "/opt/homebrew/lib/python3.10/site-packages/sklearn/metrics/_classification.py:1334: UndefinedMetricWarning: Precision and F-score are ill-defined and being set to 0.0 in labels with no predicted samples. Use `zero_division` parameter to control this behavior.\n",
      "  _warn_prf(average, modifier, msg_start, len(result))\n",
      "/opt/homebrew/lib/python3.10/site-packages/sklearn/metrics/_classification.py:1334: UndefinedMetricWarning: Recall and F-score are ill-defined and being set to 0.0 in labels with no true samples. Use `zero_division` parameter to control this behavior.\n",
      "  _warn_prf(average, modifier, msg_start, len(result))\n",
      "/opt/homebrew/lib/python3.10/site-packages/sklearn/metrics/_classification.py:1334: UndefinedMetricWarning: Precision and F-score are ill-defined and being set to 0.0 in labels with no predicted samples. Use `zero_division` parameter to control this behavior.\n",
      "  _warn_prf(average, modifier, msg_start, len(result))\n",
      "/opt/homebrew/lib/python3.10/site-packages/sklearn/metrics/_classification.py:1334: UndefinedMetricWarning: Recall and F-score are ill-defined and being set to 0.0 in labels with no true samples. Use `zero_division` parameter to control this behavior.\n",
      "  _warn_prf(average, modifier, msg_start, len(result))\n"
     ]
    }
   ],
   "source": [
    "from sklearn.model_selection import train_test_split\n",
    "from sklearn.linear_model import LogisticRegression\n",
    "from sklearn.metrics import accuracy_score, classification_report\n",
    "import statsmodels.api as sm\n",
    "import statsmodels.formula.api as smf\n",
    "\n",
    "# Split the dataset into training and testing sets\n",
    "X_train, X_test, y_train, y_test = train_test_split(X, y, test_size=0.2, random_state=42)\n",
    "\n",
    "# Create a multinomial logistic regression model\n",
    "model = LogisticRegression(multi_class='multinomial', solver='lbfgs')\n",
    "\n",
    "# Train the model on the training data\n",
    "model.fit(X_train, y_train)\n",
    "\n",
    "# Make predictions on the testing data\n",
    "y_pred = model.predict(X_test)\n",
    "\n",
    "# Calculate the accuracy score and classification report\n",
    "accuracy = accuracy_score(y_test, y_pred)\n",
    "print(\"Accuracy:\", accuracy)\n",
    "\n",
    "report = classification_report(y_test, y_pred)\n",
    "print(\"Classification Report:\\n\", report)\n"
   ]
  },
  {
   "cell_type": "code",
   "execution_count": null,
   "metadata": {},
   "outputs": [
    {
     "name": "stdout",
     "output_type": "stream",
     "text": [
      "  variables       VIF\n",
      "0     const  2.781960\n",
      "1      Poll  1.039641\n",
      "2  Hot_cold  1.039641\n"
     ]
    }
   ],
   "source": [
    "from statsmodels.stats.outliers_influence import variance_inflation_factor\n",
    "X = sm.add_constant(X)  # Add a constant term to the model\n",
    "\n",
    "# Calculate the VIF for each variable\n",
    "vif = pd.DataFrame()\n",
    "vif['variables'] = X.columns\n",
    "vif['VIF'] = [variance_inflation_factor(X.values, i) for i in range(X.shape[1])]\n",
    "\n",
    "print(vif)"
   ]
  },
  {
   "cell_type": "code",
   "execution_count": null,
   "metadata": {},
   "outputs": [],
   "source": []
  }
 ],
 "metadata": {
  "kernelspec": {
   "display_name": "Python 3.10.9 64-bit",
   "language": "python",
   "name": "python3"
  },
  "language_info": {
   "codemirror_mode": {
    "name": "ipython",
    "version": 3
   },
   "file_extension": ".py",
   "mimetype": "text/x-python",
   "name": "python",
   "nbconvert_exporter": "python",
   "pygments_lexer": "ipython3",
   "version": "3.10.9"
  },
  "orig_nbformat": 4,
  "vscode": {
   "interpreter": {
    "hash": "b0fa6594d8f4cbf19f97940f81e996739fb7646882a419484c72d19e05852a7e"
   }
  }
 },
 "nbformat": 4,
 "nbformat_minor": 2
}
